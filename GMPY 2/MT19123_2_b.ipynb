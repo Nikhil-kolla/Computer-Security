{
 "cells": [
  {
   "cell_type": "code",
   "execution_count": 4,
   "metadata": {},
   "outputs": [],
   "source": [
    "import gmpy2\n",
    "from gmpy2 import mpz,mpfr\n",
    "from gmpy2 import f_mod,gcd,next_prime,powmod"
   ]
  },
  {
   "cell_type": "code",
   "execution_count": 5,
   "metadata": {},
   "outputs": [],
   "source": [
    "gmpy2.get_context().precision=1023"
   ]
  },
  {
   "cell_type": "code",
   "execution_count": 6,
   "metadata": {},
   "outputs": [],
   "source": [
    "#gmpy2.get_context()"
   ]
  },
  {
   "cell_type": "code",
   "execution_count": 10,
   "metadata": {},
   "outputs": [],
   "source": [
    "def dependentRSA_decryption(c1,c2,e,d,n):\n",
    "    c1 = mpz(c1)\n",
    "    c2 = mpz(c2)\n",
    "    e = mpz(e)\n",
    "    d = mpz(d)\n",
    "    n = mpz(n)\n",
    "    k = powmod(c1,d,n) - 1\n",
    "    m = mpz(c2/powmod(k,e,n))\n",
    "    print(m)\n",
    "    print(k)\n",
    "    "
   ]
  },
  {
   "cell_type": "code",
   "execution_count": 11,
   "metadata": {},
   "outputs": [
    {
     "name": "stdout",
     "output_type": "stream",
     "text": [
      "Enter c1: 108\n",
      "Enter c2: 10593\n",
      "Enter e: 181\n",
      "Enter d: 181\n",
      "Enter n: 403\n"
     ]
    }
   ],
   "source": [
    "c1 = input(\"Enter c1: \")\n",
    "c2 = input(\"Enter c2: \")\n",
    "e = input(\"Enter e: \")\n",
    "d = input(\"Enter d: \")\n",
    "n = input(\"Enter n: \")"
   ]
  },
  {
   "cell_type": "code",
   "execution_count": 12,
   "metadata": {},
   "outputs": [
    {
     "name": "stdout",
     "output_type": "stream",
     "text": [
      "99\n",
      "107\n"
     ]
    }
   ],
   "source": [
    "dependentRSA_decryption(c1,c2,e,d,n)"
   ]
  }
 ],
 "metadata": {
  "kernelspec": {
   "display_name": "Python 3",
   "language": "python",
   "name": "python3"
  },
  "language_info": {
   "codemirror_mode": {
    "name": "ipython",
    "version": 3
   },
   "file_extension": ".py",
   "mimetype": "text/x-python",
   "name": "python",
   "nbconvert_exporter": "python",
   "pygments_lexer": "ipython3",
   "version": "3.7.6"
  }
 },
 "nbformat": 4,
 "nbformat_minor": 4
}
