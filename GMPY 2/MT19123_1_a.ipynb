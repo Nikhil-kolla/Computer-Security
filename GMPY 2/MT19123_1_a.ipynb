{
 "cells": [
  {
   "cell_type": "code",
   "execution_count": 1,
   "metadata": {},
   "outputs": [],
   "source": [
    "import gmpy2\n",
    "from gmpy2 import mpz,mpfr\n",
    "from gmpy2 import f_mod,gcd,next_prime,powmod"
   ]
  },
  {
   "cell_type": "code",
   "execution_count": 2,
   "metadata": {},
   "outputs": [],
   "source": [
    "gmpy2.get_context().precision=1023"
   ]
  },
  {
   "cell_type": "code",
   "execution_count": 3,
   "metadata": {},
   "outputs": [],
   "source": [
    "#gmpy2.get_context()"
   ]
  },
  {
   "cell_type": "code",
   "execution_count": 10,
   "metadata": {},
   "outputs": [],
   "source": [
    "def encrypt(p,q,m):\n",
    "    p = mpz(p)\n",
    "    q = mpz(q)\n",
    "    m = mpz(m)\n",
    "    n = mpz(p)*mpz(q)\n",
    "    totient_n = mpz(p-1)*mpz(q-1)\n",
    "    e=-1\n",
    "    if (gcd(gmpy2.lcm(p-1,q-1),next_prime(mpz(totient_n/2))))== mpz(1):\n",
    "        e=next_prime(mpz(totient_n/2))\n",
    "    d=gmpy2.invert(e,totient_n)\n",
    "    ciphertext = powmod(m,e,n)\n",
    "    print(ciphertext)\n",
    "    print(e)\n",
    "    print(d)\n",
    "    print(n)"
   ]
  },
  {
   "cell_type": "code",
   "execution_count": 11,
   "metadata": {},
   "outputs": [
    {
     "name": "stdout",
     "output_type": "stream",
     "text": [
      "Enter p: 5\n",
      "Enter q: 11\n",
      "Enter m: 12\n"
     ]
    }
   ],
   "source": [
    "p=input(\"Enter p: \")\n",
    "q=input(\"Enter q: \")\n",
    "m=input(\"Enter m: \")"
   ]
  },
  {
   "cell_type": "code",
   "execution_count": 12,
   "metadata": {},
   "outputs": [
    {
     "name": "stdout",
     "output_type": "stream",
     "text": [
      "23\n",
      "23\n",
      "7\n",
      "55\n"
     ]
    }
   ],
   "source": [
    "encrypt(p,q,m)"
   ]
  },
  {
   "cell_type": "code",
   "execution_count": null,
   "metadata": {},
   "outputs": [],
   "source": []
  }
 ],
 "metadata": {
  "kernelspec": {
   "display_name": "Python 3",
   "language": "python",
   "name": "python3"
  },
  "language_info": {
   "codemirror_mode": {
    "name": "ipython",
    "version": 3
   },
   "file_extension": ".py",
   "mimetype": "text/x-python",
   "name": "python",
   "nbconvert_exporter": "python",
   "pygments_lexer": "ipython3",
   "version": "3.7.6"
  }
 },
 "nbformat": 4,
 "nbformat_minor": 4
}
